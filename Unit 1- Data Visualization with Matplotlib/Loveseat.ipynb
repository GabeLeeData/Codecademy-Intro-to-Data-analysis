{
 "cells": [
  {
   "cell_type": "markdown",
   "metadata": {},
   "source": [
    "Unit 1 Data Visualization with Matplotlib Project 1: Create Purchasing information and receipts for Lovely Loveseats\n",
    "\n",
    "\n",
    "This project had us storing the names and prices of a furniture store's catalog in variables. We then had to calculate the total price and item list of the customer and print it within the output terminal."
   ]
  },
  {
   "cell_type": "code",
   "execution_count": 15,
   "metadata": {},
   "outputs": [
    {
     "name": "stdout",
     "output_type": "stream",
     "text": [
      "Added Lovely Loveseat to Customer One\n",
      "Customer One Items: Lovely Loveseat and Luxurious Lamp\n",
      "Customer One Total: 276.352\n",
      "\n",
      "Added Stylish Sette to Customer Two\n",
      "The Stylish Sette Description: \n",
      "Stylish Settee. Faux leather on birch. 29.50 inches high x 54.75 inches wide x 28 inches deep. Black.\n",
      "\n",
      "\n",
      "Added Luxurious Lamp to Customer Two\n",
      "Description of Items:\n",
      "\n",
      "Stylish Settee. Faux leather on birch. 29.50 inches high x 54.75 inches wide x 28 inches deep. Black.\n",
      "\n",
      "Luxurious Lamp. Glass and iron. 36 inches tall. Brown with cream shade.\n",
      "\n",
      "Customer Two Items: \n",
      "Stylish Settee. Faux leather on birch. 29.50 inches high x 54.75 inches wide x 28 inches deep. Black.\n",
      "\n",
      "Luxurious Lamp. Glass and iron. 36 inches tall. Brown with cream shade.\n",
      "\n",
      "Customer Two Total: 253.1232\n"
     ]
    }
   ],
   "source": [
    "\n",
    "lovely_loveseat_description = \"\"\"Lovely Loveseat. Tufted polyester blend on wood. 32 inches high x 40 inches wide x 30 inches deep. Red or white.\"\"\"\n",
    "\n",
    "lovely_loveseat_price = 254.00\n",
    "\n",
    "stylish_settee_description = \"\"\"\n",
    "Stylish Settee. Faux leather on birch. 29.50 inches high x 54.75 inches wide x 28 inches deep. Black.\n",
    "\"\"\"\n",
    "\n",
    "stylish_settee_price = 180.50\n",
    "\n",
    "luxurious_lamp_description = \"\"\"\n",
    "Luxurious Lamp. Glass and iron. 36 inches tall. Brown with cream shade.\n",
    "\"\"\"\n",
    "\n",
    "luxurious_lamp_price = 52.15\n",
    "sales_tax = 0.088\n",
    "\n",
    "customer_one_total = 0\n",
    "\n",
    "customer_one_itemization = \"\"\n",
    "\n",
    "customer_one_total = lovely_loveseat_price\n",
    "\n",
    "customer_one_itemization = \"Lovely Loveseat\"\n",
    "\n",
    "print(\"Added Lovely Loveseat to Customer One\")\n",
    "\n",
    "\n",
    "customer_one_itemization = \"Lovely Loveseat and Luxurious Lamp\"\n",
    "\n",
    "##Calculate Sale Tax\n",
    "customer_one_tax = customer_one_total * sales_tax\n",
    "\n",
    "customer_one_total += customer_one_tax\n",
    "\n",
    "print (\"Customer One Items:\") , customer_one_itemization\n",
    "print (\"Customer One Total:\") , customer_one_total\n",
    "\n",
    "\n",
    "##Second Customer\n",
    "customer_two_total = 0\n",
    "customer_two_itemization = \"\"\n",
    "\n",
    "customer_two_total = stylish_settee_price\n",
    "print(\"\\nAdded Stylish Sette to Customer Two\")\n",
    "customer_two_itemization = stylish_settee_description\n",
    "print(\"The Stylish Sette Description:\"), customer_two_itemization\n",
    "\n",
    "\n",
    "customer_two_total = stylish_settee_price + luxurious_lamp_price\n",
    "print(\"\\nAdded Luxurious Lamp to Customer Two\")\n",
    "customer_two_itemization = stylish_settee_description + luxurious_lamp_description\n",
    "\n",
    "print(\"Description of Items:\\n\"), customer_two_itemization\n",
    "\n",
    "customer_two_tax = customer_two_total * sales_tax\n",
    "\n",
    "customer_two_total += customer_two_tax\n",
    "\n",
    "print(\"Customer Two Items:\"), customer_two_itemization\n",
    "\n",
    "print(\"Customer Two Total:\"), customer_two_total\n",
    "\n"
   ]
  }
 ],
 "metadata": {
  "kernelspec": {
   "display_name": "Python 2",
   "language": "python",
   "name": "python2"
  },
  "language_info": {
   "codemirror_mode": {
    "name": "ipython",
    "version": 2
   },
   "file_extension": ".py",
   "mimetype": "text/x-python",
   "name": "python",
   "nbconvert_exporter": "python",
   "pygments_lexer": "ipython2",
   "version": "2.7.15"
  }
 },
 "nbformat": 4,
 "nbformat_minor": 2
}
